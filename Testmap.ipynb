{
 "cells": [
  {
   "cell_type": "code",
   "execution_count": 2,
   "metadata": {
    "scrolled": true
   },
   "outputs": [
    {
     "output_type": "error",
     "ename": "SyntaxError",
     "evalue": "invalid syntax (<ipython-input-2-97b02a91b2f0>, line 11)",
     "traceback": [
      "\u001b[0;36m  File \u001b[0;32m\"<ipython-input-2-97b02a91b2f0>\"\u001b[0;36m, line \u001b[0;32m11\u001b[0m\n\u001b[0;31m    popup=f\"<strong>H Mart</strong><br>{data['Name']}<br>{data['Address']}<br>{data[\"Phone #\"]}<br>Supplies:<br><ul><li>Masks</li><li>Fish</li></ul>\",\u001b[0m\n\u001b[0m                                                                                         ^\u001b[0m\n\u001b[0;31mSyntaxError\u001b[0m\u001b[0;31m:\u001b[0m invalid syntax\n"
     ]
    }
   ],
   "source": [
    "import folium\n",
    "\n",
    "map = folium.Map(location=[34.130923, -118.041751], \n",
    "                 tiles=\"Stamen Toner\",\n",
    "                zoom_start=5)\n",
    "with open(\"cases_data/supermarket_info/supermarket.csv\", 'w') as f:\n",
    "    datas = csv.DictReader(f)\n",
    "    for data in datas:\n",
    "\n",
    "        folium.Marker(location=[data[\"Lat\"],data[\"Lon\"]],\n",
    "              popup=(f\"<strong>H Mart</strong><br>{data['Name']}<br>{data['Address']}<br>{data[\"Phone #\"]}<br>Supplies:<br><ul><li>Masks</li><li>Fish</li></ul>\"), \n",
    "              tooltip=data['Name'],\n",
    "              icon=folium.Icon(color=\"red\", icon='shopping-cart', prefix='fa')).add_to(map)\n",
    "map"
   ]
  },
  {
   "cell_type": "code",
   "execution_count": null,
   "metadata": {},
   "outputs": [],
   "source": []
  }
 ],
 "metadata": {
  "kernelspec": {
   "display_name": "Python 3",
   "language": "python",
   "name": "python3"
  },
  "language_info": {
   "codemirror_mode": {
    "name": "ipython",
    "version": 3
   },
   "file_extension": ".py",
   "mimetype": "text/x-python",
   "name": "python",
   "nbconvert_exporter": "python",
   "pygments_lexer": "ipython3",
   "version": "3.7.2-final"
  }
 },
 "nbformat": 4,
 "nbformat_minor": 4
}